{
 "cells": [
  {
   "cell_type": "code",
   "execution_count": 1,
   "metadata": {},
   "outputs": [],
   "source": [
    "import pandas as pd\n",
    "import numpy as np\n",
    "import matplotlib.pyplot as plt\n",
    "from mpl_toolkits.mplot3d import Axes3D\n"
   ]
  },
  {
   "cell_type": "code",
   "execution_count": 10,
   "metadata": {},
   "outputs": [
    {
     "data": {
      "text/html": [
       "<div>\n",
       "<style scoped>\n",
       "    .dataframe tbody tr th:only-of-type {\n",
       "        vertical-align: middle;\n",
       "    }\n",
       "\n",
       "    .dataframe tbody tr th {\n",
       "        vertical-align: top;\n",
       "    }\n",
       "\n",
       "    .dataframe thead th {\n",
       "        text-align: right;\n",
       "    }\n",
       "</style>\n",
       "<table border=\"1\" class=\"dataframe\">\n",
       "  <thead>\n",
       "    <tr style=\"text-align: right;\">\n",
       "      <th></th>\n",
       "      <th>t</th>\n",
       "      <th>x</th>\n",
       "      <th>y</th>\n",
       "      <th>z</th>\n",
       "      <th>particle</th>\n",
       "    </tr>\n",
       "  </thead>\n",
       "  <tbody>\n",
       "    <tr>\n",
       "      <th>0</th>\n",
       "      <td>0.000000</td>\n",
       "      <td>-11.264433</td>\n",
       "      <td>-8.997368</td>\n",
       "      <td>-4.275896</td>\n",
       "      <td>0</td>\n",
       "    </tr>\n",
       "    <tr>\n",
       "      <th>1</th>\n",
       "      <td>0.010013</td>\n",
       "      <td>-11.037727</td>\n",
       "      <td>-13.481687</td>\n",
       "      <td>-3.264909</td>\n",
       "      <td>0</td>\n",
       "    </tr>\n",
       "    <tr>\n",
       "      <th>2</th>\n",
       "      <td>0.020025</td>\n",
       "      <td>-11.282123</td>\n",
       "      <td>-17.643650</td>\n",
       "      <td>-1.879389</td>\n",
       "      <td>0</td>\n",
       "    </tr>\n",
       "    <tr>\n",
       "      <th>3</th>\n",
       "      <td>0.030038</td>\n",
       "      <td>-11.918275</td>\n",
       "      <td>-21.626484</td>\n",
       "      <td>-0.119424</td>\n",
       "      <td>0</td>\n",
       "    </tr>\n",
       "    <tr>\n",
       "      <th>4</th>\n",
       "      <td>0.040050</td>\n",
       "      <td>-12.889096</td>\n",
       "      <td>-25.510609</td>\n",
       "      <td>2.061243</td>\n",
       "      <td>0</td>\n",
       "    </tr>\n",
       "    <tr>\n",
       "      <th>...</th>\n",
       "      <td>...</td>\n",
       "      <td>...</td>\n",
       "      <td>...</td>\n",
       "      <td>...</td>\n",
       "      <td>...</td>\n",
       "    </tr>\n",
       "    <tr>\n",
       "      <th>79995</th>\n",
       "      <td>7.959950</td>\n",
       "      <td>14.053129</td>\n",
       "      <td>6.211844</td>\n",
       "      <td>43.306856</td>\n",
       "      <td>99</td>\n",
       "    </tr>\n",
       "    <tr>\n",
       "      <th>79996</th>\n",
       "      <td>7.969962</td>\n",
       "      <td>13.269000</td>\n",
       "      <td>4.290858</td>\n",
       "      <td>42.998958</td>\n",
       "      <td>99</td>\n",
       "    </tr>\n",
       "    <tr>\n",
       "      <th>79997</th>\n",
       "      <td>7.979975</td>\n",
       "      <td>12.371186</td>\n",
       "      <td>2.517866</td>\n",
       "      <td>42.377761</td>\n",
       "      <td>99</td>\n",
       "    </tr>\n",
       "    <tr>\n",
       "      <th>79998</th>\n",
       "      <td>7.989987</td>\n",
       "      <td>11.385854</td>\n",
       "      <td>0.934354</td>\n",
       "      <td>41.509571</td>\n",
       "      <td>99</td>\n",
       "    </tr>\n",
       "    <tr>\n",
       "      <th>79999</th>\n",
       "      <td>8.000000</td>\n",
       "      <td>10.340704</td>\n",
       "      <td>-0.435236</td>\n",
       "      <td>40.462813</td>\n",
       "      <td>99</td>\n",
       "    </tr>\n",
       "  </tbody>\n",
       "</table>\n",
       "<p>80000 rows × 5 columns</p>\n",
       "</div>"
      ],
      "text/plain": [
       "              t          x          y          z  particle\n",
       "0      0.000000 -11.264433  -8.997368  -4.275896         0\n",
       "1      0.010013 -11.037727 -13.481687  -3.264909         0\n",
       "2      0.020025 -11.282123 -17.643650  -1.879389         0\n",
       "3      0.030038 -11.918275 -21.626484  -0.119424         0\n",
       "4      0.040050 -12.889096 -25.510609   2.061243         0\n",
       "...         ...        ...        ...        ...       ...\n",
       "79995  7.959950  14.053129   6.211844  43.306856        99\n",
       "79996  7.969962  13.269000   4.290858  42.998958        99\n",
       "79997  7.979975  12.371186   2.517866  42.377761        99\n",
       "79998  7.989987  11.385854   0.934354  41.509571        99\n",
       "79999  8.000000  10.340704  -0.435236  40.462813        99\n",
       "\n",
       "[80000 rows x 5 columns]"
      ]
     },
     "execution_count": 10,
     "metadata": {},
     "output_type": "execute_result"
    }
   ],
   "source": [
    "lorenz_df = pd.read_csv('lorenz.csv', header=0, names=['t', 'x', 'y', 'z', 'particle'])\n",
    "lorenz_df"
   ]
  },
  {
   "cell_type": "code",
   "execution_count": 12,
   "metadata": {},
   "outputs": [
    {
     "data": {
      "image/png": "[encoded data removed]",
      "text/plain": [
       "<Figure size 432x288 with 1 Axes>"
      ]
     },
     "metadata": {
      "needs_background": "light"
     },
     "output_type": "display_data"
    }
   ],
   "source": [
    "# make a 3D plot of the Lorenz attractor\n",
    "fig = plt.figure()\n",
    "ax = fig.add_subplot(projection='3d')\n",
    "# make grid invisible\n",
    "ax.grid(False)\n",
    "# make axes invisible\n",
    "#ax.set_axis_off()\n",
    "# make background transparent\n",
    "ax.xaxis.pane.fill = False\n",
    "ax.yaxis.pane.fill = False\n",
    "ax.zaxis.pane.fill = False\n",
    "\n",
    "# testing particle 0\n",
    "df_particle = lorenz_df[lorenz_df['particle'] == 0]\n",
    "\n",
    "# make the plot\n",
    "ax.plot(df_particle['x'], df_particle['y'], df_particle['z'] )\n",
    "ax.set_xlabel('x')\n",
    "ax.set_ylabel('y')\n",
    "ax.set_zlabel('z')\n",
    "plt.show()\n"
   ]
  },
  {
   "cell_type": "code",
   "execution_count": null,
   "metadata": {},
   "outputs": [],
   "source": []
  }
 ],
 "metadata": {
  "kernelspec": {
   "display_name": "Python 3.10.2 64-bit ('3.10.2')",
   "language": "python",
   "name": "python3"
  },
  "language_info": {
   "codemirror_mode": {
    "name": "ipython",
    "version": 3
   },
   "file_extension": ".py",
   "mimetype": "text/x-python",
   "name": "python",
   "nbconvert_exporter": "python",
   "pygments_lexer": "ipython3",
   "version": "3.10.2"
  },
  "orig_nbformat": 4,
  "vscode": {
   "interpreter": {
    "hash": "725bbe29d1c18d191ac0c85feb075f75ad20654624becd29588183ed39edd8e6"
   }
  }
 },
 "nbformat": 4,
 "nbformat_minor": 2
}
