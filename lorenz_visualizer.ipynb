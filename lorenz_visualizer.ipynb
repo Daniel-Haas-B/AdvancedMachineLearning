{
 "cells": [
  {
   "cell_type": "code",
   "execution_count": 1,
   "metadata": {},
   "outputs": [],
   "source": [
    "import pandas as pd\n",
    "import numpy as np\n",
    "import matplotlib.pyplot as plt\n",
    "from mpl_toolkits.mplot3d import Axes3D\n"
   ]
  },
  {
   "cell_type": "code",
   "execution_count": 2,
   "metadata": {},
   "outputs": [
    {
     "data": {
      "text/html": [
       "<div>\n",
       "<style scoped>\n",
       "    .dataframe tbody tr th:only-of-type {\n",
       "        vertical-align: middle;\n",
       "    }\n",
       "\n",
       "    .dataframe tbody tr th {\n",
       "        vertical-align: top;\n",
       "    }\n",
       "\n",
       "    .dataframe thead th {\n",
       "        text-align: right;\n",
       "    }\n",
       "</style>\n",
       "<table border=\"1\" class=\"dataframe\">\n",
       "  <thead>\n",
       "    <tr style=\"text-align: right;\">\n",
       "      <th></th>\n",
       "      <th>t</th>\n",
       "      <th>x</th>\n",
       "      <th>y</th>\n",
       "      <th>z</th>\n",
       "    </tr>\n",
       "  </thead>\n",
       "  <tbody>\n",
       "    <tr>\n",
       "      <th>0</th>\n",
       "      <td>0.000000</td>\n",
       "      <td>-11.336868</td>\n",
       "      <td>10.638580</td>\n",
       "      <td>3.162024</td>\n",
       "    </tr>\n",
       "    <tr>\n",
       "      <th>1</th>\n",
       "      <td>0.010013</td>\n",
       "      <td>-9.139323</td>\n",
       "      <td>7.095414</td>\n",
       "      <td>1.898433</td>\n",
       "    </tr>\n",
       "    <tr>\n",
       "      <th>2</th>\n",
       "      <td>0.020025</td>\n",
       "      <td>-7.515850</td>\n",
       "      <td>4.137359</td>\n",
       "      <td>1.217096</td>\n",
       "    </tr>\n",
       "    <tr>\n",
       "      <th>3</th>\n",
       "      <td>0.030038</td>\n",
       "      <td>-6.350529</td>\n",
       "      <td>1.679868</td>\n",
       "      <td>0.884227</td>\n",
       "    </tr>\n",
       "    <tr>\n",
       "      <th>4</th>\n",
       "      <td>0.040050</td>\n",
       "      <td>-5.547489</td>\n",
       "      <td>-0.388393</td>\n",
       "      <td>0.758683</td>\n",
       "    </tr>\n",
       "    <tr>\n",
       "      <th>...</th>\n",
       "      <td>...</td>\n",
       "      <td>...</td>\n",
       "      <td>...</td>\n",
       "      <td>...</td>\n",
       "    </tr>\n",
       "    <tr>\n",
       "      <th>795</th>\n",
       "      <td>7.959950</td>\n",
       "      <td>-0.546138</td>\n",
       "      <td>0.336775</td>\n",
       "      <td>20.385053</td>\n",
       "    </tr>\n",
       "    <tr>\n",
       "      <th>796</th>\n",
       "      <td>7.969962</td>\n",
       "      <td>-0.457846</td>\n",
       "      <td>0.290163</td>\n",
       "      <td>19.848343</td>\n",
       "    </tr>\n",
       "    <tr>\n",
       "      <th>797</th>\n",
       "      <td>7.979975</td>\n",
       "      <td>-0.383045</td>\n",
       "      <td>0.248363</td>\n",
       "      <td>19.326085</td>\n",
       "    </tr>\n",
       "    <tr>\n",
       "      <th>798</th>\n",
       "      <td>7.989987</td>\n",
       "      <td>-0.319905</td>\n",
       "      <td>0.211172</td>\n",
       "      <td>18.817799</td>\n",
       "    </tr>\n",
       "    <tr>\n",
       "      <th>799</th>\n",
       "      <td>8.000000</td>\n",
       "      <td>-0.266797</td>\n",
       "      <td>0.178305</td>\n",
       "      <td>18.323041</td>\n",
       "    </tr>\n",
       "  </tbody>\n",
       "</table>\n",
       "<p>800 rows × 4 columns</p>\n",
       "</div>"
      ],
      "text/plain": [
       "            t          x          y          z\n",
       "0    0.000000 -11.336868  10.638580   3.162024\n",
       "1    0.010013  -9.139323   7.095414   1.898433\n",
       "2    0.020025  -7.515850   4.137359   1.217096\n",
       "3    0.030038  -6.350529   1.679868   0.884227\n",
       "4    0.040050  -5.547489  -0.388393   0.758683\n",
       "..        ...        ...        ...        ...\n",
       "795  7.959950  -0.546138   0.336775  20.385053\n",
       "796  7.969962  -0.457846   0.290163  19.848343\n",
       "797  7.979975  -0.383045   0.248363  19.326085\n",
       "798  7.989987  -0.319905   0.211172  18.817799\n",
       "799  8.000000  -0.266797   0.178305  18.323041\n",
       "\n",
       "[800 rows x 4 columns]"
      ]
     },
     "execution_count": 2,
     "metadata": {},
     "output_type": "execute_result"
    }
   ],
   "source": [
    "lorenz_df = pd.read_csv('lorenz.csv', header=0, names=['t', 'x', 'y', 'z'])\n",
    "lorenz_df"
   ]
  },
  {
   "cell_type": "code",
   "execution_count": 9,
   "metadata": {},
   "outputs": [
    {
     "data": {
      "image/png": "[encoded data removed]",
      "text/plain": [
       "<Figure size 432x288 with 1 Axes>"
      ]
     },
     "metadata": {
      "needs_background": "light"
     },
     "output_type": "display_data"
    }
   ],
   "source": [
    "# make a 3D plot of the Lorenz attractor\n",
    "fig = plt.figure()\n",
    "ax = fig.add_subplot(projection='3d')\n",
    "# make grid invisible\n",
    "ax.grid(False)\n",
    "# make axes invisible\n",
    "#ax.set_axis_off()\n",
    "# make background transparent\n",
    "ax.xaxis.pane.fill = False\n",
    "ax.yaxis.pane.fill = False\n",
    "ax.zaxis.pane.fill = False\n",
    "\n",
    "\n",
    "# make the plot\n",
    "\n",
    "ax.plot(lorenz_df['x'], lorenz_df['y'], lorenz_df['z'])\n",
    "ax.set_xlabel('x')\n",
    "ax.set_ylabel('y')\n",
    "ax.set_zlabel('z')\n",
    "plt.show()\n"
   ]
  }
 ],
 "metadata": {
  "kernelspec": {
   "display_name": "Python 3.10.2 64-bit ('3.10.2')",
   "language": "python",
   "name": "python3"
  },
  "language_info": {
   "codemirror_mode": {
    "name": "ipython",
    "version": 3
   },
   "file_extension": ".py",
   "mimetype": "text/x-python",
   "name": "python",
   "nbconvert_exporter": "python",
   "pygments_lexer": "ipython3",
   "version": "3.10.2"
  },
  "orig_nbformat": 4,
  "vscode": {
   "interpreter": {
    "hash": "725bbe29d1c18d191ac0c85feb075f75ad20654624becd29588183ed39edd8e6"
   }
  }
 },
 "nbformat": 4,
 "nbformat_minor": 2
}
